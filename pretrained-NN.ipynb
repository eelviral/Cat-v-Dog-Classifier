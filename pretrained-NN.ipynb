{
 "cells": [
  {
   "cell_type": "code",
   "execution_count": 1,
   "metadata": {},
   "outputs": [
    {
     "name": "stdout",
     "output_type": "stream",
     "text": [
      "Found 0 images belonging to 0 classes.\n",
      "Found 0 images belonging to 0 classes.\n"
     ]
    },
    {
     "name": "stderr",
     "output_type": "stream",
     "text": [
      "WARNING:absl:`lr` is deprecated in Keras optimizer, please use `learning_rate` or use the legacy optimizer, e.g.,tf.keras.optimizers.legacy.Adam.\n"
     ]
    },
    {
     "ename": "ValueError",
     "evalue": "Unexpected value for `steps_per_epoch`. Received value is 0. Please check the docstring for `model.fit()` for supported values.",
     "output_type": "error",
     "traceback": [
      "\u001b[1;31m---------------------------------------------------------------------------\u001b[0m",
      "\u001b[1;31mValueError\u001b[0m                                Traceback (most recent call last)",
      "\u001b[1;32mc:\\Users\\redma\\Desktop\\Cat-v-Dog-Classifier\\pretrained-NN.ipynb Cell 1\u001b[0m line \u001b[0;36m8\n\u001b[0;32m     <a href='vscode-notebook-cell:/c%3A/Users/redma/Desktop/Cat-v-Dog-Classifier/pretrained-NN.ipynb#W0sZmlsZQ%3D%3D?line=77'>78</a>\u001b[0m batch_size \u001b[39m=\u001b[39m \u001b[39m80\u001b[39m  \u001b[39m# Choose a batch size that fits your memory constraints\u001b[39;00m\n\u001b[0;32m     <a href='vscode-notebook-cell:/c%3A/Users/redma/Desktop/Cat-v-Dog-Classifier/pretrained-NN.ipynb#W0sZmlsZQ%3D%3D?line=78'>79</a>\u001b[0m epochs \u001b[39m=\u001b[39m \u001b[39m500\u001b[39m\n\u001b[1;32m---> <a href='vscode-notebook-cell:/c%3A/Users/redma/Desktop/Cat-v-Dog-Classifier/pretrained-NN.ipynb#W0sZmlsZQ%3D%3D?line=80'>81</a>\u001b[0m history \u001b[39m=\u001b[39m model\u001b[39m.\u001b[39;49mfit(train_data,\n\u001b[0;32m     <a href='vscode-notebook-cell:/c%3A/Users/redma/Desktop/Cat-v-Dog-Classifier/pretrained-NN.ipynb#W0sZmlsZQ%3D%3D?line=81'>82</a>\u001b[0m                     steps_per_epoch\u001b[39m=\u001b[39;49m\u001b[39mlen\u001b[39;49m(train_data),\n\u001b[0;32m     <a href='vscode-notebook-cell:/c%3A/Users/redma/Desktop/Cat-v-Dog-Classifier/pretrained-NN.ipynb#W0sZmlsZQ%3D%3D?line=82'>83</a>\u001b[0m                     epochs\u001b[39m=\u001b[39;49mepochs,\n\u001b[0;32m     <a href='vscode-notebook-cell:/c%3A/Users/redma/Desktop/Cat-v-Dog-Classifier/pretrained-NN.ipynb#W0sZmlsZQ%3D%3D?line=83'>84</a>\u001b[0m                     validation_data\u001b[39m=\u001b[39;49mval_data,\n\u001b[0;32m     <a href='vscode-notebook-cell:/c%3A/Users/redma/Desktop/Cat-v-Dog-Classifier/pretrained-NN.ipynb#W0sZmlsZQ%3D%3D?line=84'>85</a>\u001b[0m                     callbacks\u001b[39m=\u001b[39;49mcallbacks)\n\u001b[0;32m     <a href='vscode-notebook-cell:/c%3A/Users/redma/Desktop/Cat-v-Dog-Classifier/pretrained-NN.ipynb#W0sZmlsZQ%3D%3D?line=86'>87</a>\u001b[0m test_loss, test_acc \u001b[39m=\u001b[39m model\u001b[39m.\u001b[39mevaluate(val_data, verbose\u001b[39m=\u001b[39m\u001b[39m2\u001b[39m)\n\u001b[0;32m     <a href='vscode-notebook-cell:/c%3A/Users/redma/Desktop/Cat-v-Dog-Classifier/pretrained-NN.ipynb#W0sZmlsZQ%3D%3D?line=87'>88</a>\u001b[0m \u001b[39mprint\u001b[39m(\u001b[39m'\u001b[39m\u001b[39m\\n\u001b[39;00m\u001b[39mTest accuracy:\u001b[39m\u001b[39m'\u001b[39m, test_acc)\n",
      "File \u001b[1;32mc:\\Python311\\Lib\\site-packages\\keras\\src\\utils\\traceback_utils.py:70\u001b[0m, in \u001b[0;36mfilter_traceback.<locals>.error_handler\u001b[1;34m(*args, **kwargs)\u001b[0m\n\u001b[0;32m     67\u001b[0m     filtered_tb \u001b[39m=\u001b[39m _process_traceback_frames(e\u001b[39m.\u001b[39m__traceback__)\n\u001b[0;32m     68\u001b[0m     \u001b[39m# To get the full stack trace, call:\u001b[39;00m\n\u001b[0;32m     69\u001b[0m     \u001b[39m# `tf.debugging.disable_traceback_filtering()`\u001b[39;00m\n\u001b[1;32m---> 70\u001b[0m     \u001b[39mraise\u001b[39;00m e\u001b[39m.\u001b[39mwith_traceback(filtered_tb) \u001b[39mfrom\u001b[39;00m \u001b[39mNone\u001b[39;00m\n\u001b[0;32m     71\u001b[0m \u001b[39mfinally\u001b[39;00m:\n\u001b[0;32m     72\u001b[0m     \u001b[39mdel\u001b[39;00m filtered_tb\n",
      "File \u001b[1;32mc:\\Python311\\Lib\\site-packages\\keras\\src\\engine\\data_adapter.py:1275\u001b[0m, in \u001b[0;36mDataHandler.__init__\u001b[1;34m(self, x, y, sample_weight, batch_size, steps_per_epoch, initial_epoch, epochs, shuffle, class_weight, max_queue_size, workers, use_multiprocessing, model, steps_per_execution, distribute, pss_evaluation_shards)\u001b[0m\n\u001b[0;32m   1272\u001b[0m \u001b[39mself\u001b[39m\u001b[39m.\u001b[39m_model \u001b[39m=\u001b[39m model\n\u001b[0;32m   1274\u001b[0m \u001b[39mif\u001b[39;00m steps_per_epoch \u001b[39m==\u001b[39m \u001b[39m0\u001b[39m:\n\u001b[1;32m-> 1275\u001b[0m     \u001b[39mraise\u001b[39;00m \u001b[39mValueError\u001b[39;00m(\n\u001b[0;32m   1276\u001b[0m         \u001b[39m\"\u001b[39m\u001b[39mUnexpected value for `steps_per_epoch`. Received value is 0. \u001b[39m\u001b[39m\"\u001b[39m\n\u001b[0;32m   1277\u001b[0m         \u001b[39m\"\u001b[39m\u001b[39mPlease check the docstring for `model.fit()` for supported \u001b[39m\u001b[39m\"\u001b[39m\n\u001b[0;32m   1278\u001b[0m         \u001b[39m\"\u001b[39m\u001b[39mvalues.\u001b[39m\u001b[39m\"\u001b[39m\n\u001b[0;32m   1279\u001b[0m     )\n\u001b[0;32m   1281\u001b[0m \u001b[39mself\u001b[39m\u001b[39m.\u001b[39m_steps_per_epoch \u001b[39m=\u001b[39m steps_per_epoch\n\u001b[0;32m   1283\u001b[0m \u001b[39m# `steps_per_execution_value` is the cached initial value.\u001b[39;00m\n\u001b[0;32m   1284\u001b[0m \u001b[39m# `steps_per_execution` is mutable and may be changed by the DataAdapter\u001b[39;00m\n\u001b[0;32m   1285\u001b[0m \u001b[39m# to handle partial executions.\u001b[39;00m\n",
      "\u001b[1;31mValueError\u001b[0m: Unexpected value for `steps_per_epoch`. Received value is 0. Please check the docstring for `model.fit()` for supported values."
     ]
    }
   ],
   "source": [
    "import os\n",
    "import numpy as np\n",
    "import matplotlib.pyplot as plt\n",
    "from tensorflow.keras.preprocessing.image import ImageDataGenerator\n",
    "import tensorflow as tf\n",
    "from tensorflow.keras.callbacks import ModelCheckpoint\n",
    "\n",
    "# Paths for cat and dog directories\n",
    "TRAIN_IMAGE_DIR = './dogs-vs-cats-identification/train'  # Inside train directory, have separate 'cat' and 'dog' directories\n",
    "\n",
    "# Use ImageDataGenerator to automatically label data based on folder names\n",
    "datagen = ImageDataGenerator(\n",
    "    rotation_range=20,\n",
    "    width_shift_range=0.2,\n",
    "    height_shift_range=0.2,\n",
    "    horizontal_flip=True,\n",
    "    zoom_range=0.2,\n",
    "    validation_split=0.2  # using 20% of data for validation\n",
    ")\n",
    "\n",
    "# Load training and validation data\n",
    "train_data = datagen.flow_from_directory(\n",
    "    TRAIN_IMAGE_DIR,\n",
    "    target_size=(224, 224),\n",
    "    class_mode='binary',  # Binary since we have two classes\n",
    "    batch_size=80,\n",
    "    subset='training'\n",
    ")\n",
    "\n",
    "val_data = datagen.flow_from_directory(\n",
    "    TRAIN_IMAGE_DIR,\n",
    "    target_size=(224, 224),\n",
    "    class_mode='binary',\n",
    "    batch_size=80,\n",
    "    subset='validation'\n",
    ")\n",
    "\n",
    "# Load the pre-trained VGG16 model\n",
    "base_model = tf.keras.applications.VGG16(weights='imagenet', include_top=False, input_shape=(224, 224, 3))\n",
    "\n",
    "for layer in base_model.layers[:-4]:  # Freeze all layers except the last 4\n",
    "    layer.trainable = False\n",
    "\n",
    "for layer in base_model.layers[-4:]:  # Set the last 4 layers to trainable\n",
    "    layer.trainable = True\n",
    "\n",
    "# Build the custom classification head\n",
    "x = base_model.output\n",
    "x = tf.keras.layers.GlobalAveragePooling2D()(x)\n",
    "x = tf.keras.layers.Dense(1024, activation='relu')(x)\n",
    "x = tf.keras.layers.BatchNormalization()(x)\n",
    "x = tf.keras.layers.Dropout(0.5)(x)\n",
    "x = tf.keras.layers.Dense(512, activation='relu')(x)\n",
    "x = tf.keras.layers.BatchNormalization()(x)\n",
    "x = tf.keras.layers.Dropout(0.5)(x)\n",
    "x = tf.keras.layers.Dense(256, activation='relu')(x)\n",
    "x = tf.keras.layers.BatchNormalization()(x)\n",
    "x = tf.keras.layers.Dropout(0.5)(x)\n",
    "\n",
    "# Modify the final layer for binary classification\n",
    "predictions = tf.keras.layers.Dense(2, activation='softmax')(x)  # Using 2 instead of 120\n",
    "model = tf.keras.Model(inputs=base_model.input, outputs=predictions)\n",
    "\n",
    "optimizer = tf.keras.optimizers.Adam(lr=1e-5)\n",
    "model.compile(optimizer=optimizer,\n",
    "              loss='sparse_categorical_crossentropy',\n",
    "              metrics=['accuracy'])\n",
    "\n",
    "# Checkpoint\n",
    "filepath = './models/best_model.epoch{epoch:02d}-loss{val_loss:.2f}.hdf5'\n",
    "checkpoint = ModelCheckpoint(filepath=filepath, \n",
    "                             monitor='val_loss',\n",
    "                             verbose=1, \n",
    "                             save_best_only=True,\n",
    "                             mode='min')\n",
    "\n",
    "callbacks = [checkpoint]\n",
    "batch_size = 80  # Choose a batch size that fits your memory constraints\n",
    "epochs = 500\n",
    "\n",
    "history = model.fit(train_data,\n",
    "                    steps_per_epoch=len(train_data),\n",
    "                    epochs=epochs,\n",
    "                    validation_data=val_data,\n",
    "                    callbacks=callbacks)\n",
    "\n",
    "test_loss, test_acc = model.evaluate(val_data, verbose=2)\n",
    "print('\\nTest accuracy:', test_acc)\n",
    "model.save('cat_dog_classifier.h5')"
   ]
  }
 ],
 "metadata": {
  "kernelspec": {
   "display_name": "Python 3",
   "language": "python",
   "name": "python3"
  },
  "language_info": {
   "codemirror_mode": {
    "name": "ipython",
    "version": 3
   },
   "file_extension": ".py",
   "mimetype": "text/x-python",
   "name": "python",
   "nbconvert_exporter": "python",
   "pygments_lexer": "ipython3",
   "version": "3.11.0"
  }
 },
 "nbformat": 4,
 "nbformat_minor": 2
}
